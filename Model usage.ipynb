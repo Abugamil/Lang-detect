{
 "cells": [
  {
   "cell_type": "code",
   "execution_count": 28,
   "metadata": {},
   "outputs": [],
   "source": [
    "def preprocess_text_tags(text):\n",
    "    if isinstance(text,(int,float)):\n",
    "        return str(text)\n",
    "    text = text.lower().replace(\"ё\", \"е\")\n",
    "    text = re.sub('((www\\.[^\\s]+)|(http[s]?://[^\\s]+))','url', text)     \n",
    "    text = re.sub('@[^\\s]+','user', text)\n",
    "    text = re.sub('\\w+@[a-zA-Z_]+?\\.[a-zA-Z]{2,4}','email', text)   \n",
    "    text = re.sub('(?:\\#+[\\w_]+[\\w\\'_\\-]*[\\w_]+)','hashtag', text)\n",
    "    text = re.sub(' +',' ', text)\n",
    "    return ' '.join(text.split()) \n",
    "\n",
    "def predict_lang(MESSAGE):\n",
    "    clear_text=preprocess_text_tags(MESSAGE)\n",
    "    if len(clear_text)<2:\n",
    "        return float(1.0)\n",
    "    else:\n",
    "        data_test_count  = tfidf.transform([clear_text])\n",
    "        pred = clf.predict(data_test_count)            \n",
    "        return float(pred[0])\n",
    "\n",
    "with open('tfidf_model.p', 'rb') as f:\n",
    "    tfidf = pickle.load(f)\n",
    "    \n",
    "with open('clf_model.p', 'rb') as f:\n",
    "    clf = pickle.load(f)\n",
    "\n",
    "\n",
    "udf_predictor = F.udf(predict_lang, T.FloatType())\n",
    " \n"
   ]
  },
  {
   "cell_type": "code",
   "execution_count": null,
   "metadata": {},
   "outputs": [],
   "source": []
  }
 ],
 "metadata": {
  "kernelspec": {
   "display_name": "devenv",
   "language": "python",
   "name": "devenv"
  },
  "language_info": {
   "codemirror_mode": {
    "name": "ipython",
    "version": 3
   },
   "file_extension": ".py",
   "mimetype": "text/x-python",
   "name": "python",
   "nbconvert_exporter": "python",
   "pygments_lexer": "ipython3",
   "version": "3.7.7"
  }
 },
 "nbformat": 4,
 "nbformat_minor": 4
}
