{
 "cells": [
  {
   "cell_type": "code",
   "execution_count": 1,
   "id": "instructional-quick",
   "metadata": {},
   "outputs": [],
   "source": [
    "import numpy as np\n",
    "import pandas as pd\n",
    "import nltk\n",
    "from nltk.corpus import stopwords\n",
    "from nltk import word_tokenize, sent_tokenize\n",
    "from nltk.stem import SnowballStemmer\n",
    "from collections import defaultdict\n",
    "import string\n",
    "import random \n",
    "import re"
   ]
  },
  {
   "cell_type": "code",
   "execution_count": 2,
   "id": "arbitrary-equation",
   "metadata": {},
   "outputs": [],
   "source": [
    "from sklearn.svm import LinearSVC,SVC\n",
    "from sklearn.linear_model import LogisticRegression, LinearRegression, Ridge, Lasso, SGDClassifier\n",
    "from sklearn.metrics import classification_report, confusion_matrix, accuracy_score\n",
    "from sklearn.feature_extraction.text import CountVectorizer \n",
    "from sklearn.feature_extraction.text import TfidfVectorizer,TfidfTransformer\n",
    "from sklearn.naive_bayes import MultinomialNB \n",
    "from sklearn.pipeline import Pipeline\n",
    "from sklearn.model_selection import GridSearchCV"
   ]
  },
  {
   "cell_type": "code",
   "execution_count": 3,
   "id": "unauthorized-unemployment",
   "metadata": {},
   "outputs": [],
   "source": [
    "def preprocess_text_tags(text):\n",
    "    if isinstance(text,(int,float)):\n",
    "        return ''\n",
    "    text = text.lower()\n",
    "    text = re.sub(r'[^аәбвгғдеёжзийкқлмнңоөпрстуұүфхһцчшщъыіьэюя]', ' ', text)\n",
    "    text = re.sub(' +',' ', text)\n",
    "    return ' '.join(text.split()) "
   ]
  },
  {
   "cell_type": "code",
   "execution_count": 4,
   "id": "minimal-arctic",
   "metadata": {},
   "outputs": [],
   "source": [
    "rudata=None\n",
    "with open('ru.txt','r',encoding=\"utf-8\") as file:\n",
    "    rudata=file.read().replace('\\n',' ')\n",
    "rudata=rudata.replace('\\xa0',' ')\n",
    "rudata=rudata.replace('\\xad',' ')\n"
   ]
  },
  {
   "cell_type": "code",
   "execution_count": 5,
   "id": "embedded-athletics",
   "metadata": {},
   "outputs": [],
   "source": [
    "kzdata=None\n",
    "with open('kz.txt','r',encoding=\"utf-8\") as file:\n",
    "    kzdata=file.read().replace('\\n',' ')\n",
    "kzdata=kzdata.replace('\\xa0',' ')\n",
    "kzdata=kzdata.replace('\\xad',' ')"
   ]
  },
  {
   "cell_type": "code",
   "execution_count": 6,
   "id": "impaired-booking",
   "metadata": {},
   "outputs": [
    {
     "data": {
      "text/plain": [
       "'15 қазанда Алматы облысының Нарынқол ауылында туған. Абай атындағы Қазақ педагогикалық институтын, кейіннен Мәскеуде Жоғары әдеби курсты бітірген. Біраз жыл ауыл мектебінде бала оқытқан. «Қазақ әдебиеті» газетінде, «Балдырған» журналында, Ш.Айманов атындағы «Қазақфильм» киностудиясында істеген. Қазақстан Жазушылар одағында балалар әдебиеті жөніндегі әдеби кеңесші болған.  Шығармашылық жолын өлеңмен бастап, 1950 жылы «Бұлақ» атты жыр жинағын шығарған. Кейін балалар мен жасөспірімдерге арналған 20-дан астам әңгіме, повесть, роман кітаптарын ұсынды. «Менің атым Қожа», «Балалық шаққа саяхат», «Бозтөбеде бір қыз бар», «Өлгендер қайтып келмейді» және «Қайдасың, Гауһар» секілді туындылары КСРО халықтарының және шетелдердің көптеген тілдеріне аударылып, сахналық, экрандық нұсқаға айналған. 1967 жылы Балалар мен жасөспірімдерге арналған фильмдердің Канн қаласында (Франция) өткен халықаралық фестивалінде «Менің атым Қожа» фильмі (Б.Соқпақбаевтың сценарийі) арнаулы жүлдеге ие болды.  Қазақ КСР Жо'"
      ]
     },
     "execution_count": 6,
     "metadata": {},
     "output_type": "execute_result"
    }
   ],
   "source": [
    "kzdata[:1000]"
   ]
  },
  {
   "cell_type": "code",
   "execution_count": 7,
   "id": "boolean-powell",
   "metadata": {},
   "outputs": [
    {
     "data": {
      "text/plain": [
       "'### Глава первая В кроличьей норе  Алисе надоело сидеть на пригорке рядом с сестрой и ничего не делать. Раза два она заглянула украдкой в книгу, которую читала её сестра, но там не было ни разговоров, ни картинок. «Какой толк в книге, -- подумала Алиса, -- если в ней нет ни картинок, ни разговоров?»  Потом она стала раздумывать (насколько вообще это возможно в такой невыносимо жаркий день, когда одолевает дремота), сто́ит ли ей вставать, чтобы пойти нарвать маргаритки и сплести венок, или нет, как вдруг Белый Кролик с розовыми глазками пробежал мимо неё.  В этом не было, конечно, ничего особенного. Не удивилась Алиса и тогда, когда Кролик пробормотал себе под нос:  -- Ах, боже мой, я опоздаю!  Думая об этом впоследствии, Алиса не могла понять, почему же она не удивилась, услышав, что Кролик заговорил, но в тот момент это не показалось ей странным. Однако, когда Кролик вынул из жилетного кармана часы и, взглянув на них, побежал дальше, Алиса вскочила, сообразив, что никогда ещё не случа'"
      ]
     },
     "execution_count": 7,
     "metadata": {},
     "output_type": "execute_result"
    }
   ],
   "source": [
    "rudata[:1000]"
   ]
  },
  {
   "cell_type": "code",
   "execution_count": 8,
   "id": "growing-figure",
   "metadata": {},
   "outputs": [],
   "source": [
    "rusentences=re.split(r\"(?<!\\w\\.\\w.)(?<![A-Z][a-z]\\.)(?<=\\.|\\?|!)\\s\", rudata)"
   ]
  },
  {
   "cell_type": "code",
   "execution_count": 9,
   "id": "later-fountain",
   "metadata": {},
   "outputs": [],
   "source": [
    "kzsentences=re.split(r\"(?<!\\w\\.\\w.)(?<![A-Z][a-z]\\.)(?<=\\.|\\?|!)\\s\", kzdata)"
   ]
  },
  {
   "cell_type": "code",
   "execution_count": 10,
   "id": "noble-access",
   "metadata": {},
   "outputs": [
    {
     "data": {
      "text/plain": [
       "95884"
      ]
     },
     "execution_count": 10,
     "metadata": {},
     "output_type": "execute_result"
    }
   ],
   "source": [
    "len(rusentences)"
   ]
  },
  {
   "cell_type": "code",
   "execution_count": 11,
   "id": "electoral-guatemala",
   "metadata": {},
   "outputs": [
    {
     "data": {
      "text/plain": [
       "112724"
      ]
     },
     "execution_count": 11,
     "metadata": {},
     "output_type": "execute_result"
    }
   ],
   "source": [
    "len(kzsentences)"
   ]
  },
  {
   "cell_type": "code",
   "execution_count": 12,
   "id": "incredible-customs",
   "metadata": {},
   "outputs": [
    {
     "data": {
      "text/plain": [
       "['15 қазанда Алматы облысының Нарынқол ауылында туған.',\n",
       " 'Абай атындағы Қазақ педагогикалық институтын, кейіннен Мәскеуде Жоғары әдеби курсты бітірген.',\n",
       " 'Біраз жыл ауыл мектебінде бала оқытқан.',\n",
       " '«Қазақ әдебиеті» газетінде, «Балдырған» журналында, Ш.Айманов атындағы «Қазақфильм» киностудиясында істеген.',\n",
       " 'Қазақстан Жазушылар одағында балалар әдебиеті жөніндегі әдеби кеңесші болған.',\n",
       " ' Шығармашылық жолын өлеңмен бастап, 1950 жылы «Бұлақ» атты жыр жинағын шығарған.',\n",
       " 'Кейін балалар мен жасөспірімдерге арналған 20-дан астам әңгіме, повесть, роман кітаптарын ұсынды.',\n",
       " '«Менің атым Қожа», «Балалық шаққа саяхат», «Бозтөбеде бір қыз бар», «Өлгендер қайтып келмейді» және «Қайдасың, Гауһар» секілді туындылары КСРО халықтарының және шетелдердің көптеген тілдеріне аударылып, сахналық, экрандық нұсқаға айналған.',\n",
       " '1967 жылы Балалар мен жасөспірімдерге арналған фильмдердің Канн қаласында (Франция) өткен халықаралық фестивалінде «Менің атым Қожа» фильмі (Б.Соқпақбаевтың сценарийі) арнаулы жүлдеге ие болды.',\n",
       " ' Қазақ КСР Жоғарғы Кеңесінің Құрмет Грамотасымен марапатталған.']"
      ]
     },
     "execution_count": 12,
     "metadata": {},
     "output_type": "execute_result"
    }
   ],
   "source": [
    "kzsentences[:10]"
   ]
  },
  {
   "cell_type": "code",
   "execution_count": 13,
   "id": "acute-fountain",
   "metadata": {},
   "outputs": [
    {
     "data": {
      "text/plain": [
       "['### Глава первая В кроличьей норе  Алисе надоело сидеть на пригорке рядом с сестрой и ничего не делать.',\n",
       " 'Раза два она заглянула украдкой в книгу, которую читала её сестра, но там не было ни разговоров, ни картинок.',\n",
       " '«Какой толк в книге, -- подумала Алиса, -- если в ней нет ни картинок, ни разговоров?»  Потом она стала раздумывать (насколько вообще это возможно в такой невыносимо жаркий день, когда одолевает дремота), сто́ит ли ей вставать, чтобы пойти нарвать маргаритки и сплести венок, или нет, как вдруг Белый Кролик с розовыми глазками пробежал мимо неё.',\n",
       " ' В этом не было, конечно, ничего особенного.',\n",
       " 'Не удивилась Алиса и тогда, когда Кролик пробормотал себе под нос:  -- Ах, боже мой, я опоздаю!',\n",
       " ' Думая об этом впоследствии, Алиса не могла понять, почему же она не удивилась, услышав, что Кролик заговорил, но в тот момент это не показалось ей странным.',\n",
       " 'Однако, когда Кролик вынул из жилетного кармана часы и, взглянув на них, побежал дальше, Алиса вскочила, сообразив, что никогда ещё не случалось ей видеть Кролика в жилете и с часами.',\n",
       " 'Сгорая от любопытства, она бросилась за ним и успела заметить, как он юркнул в кроличью нору под живой изгородью.',\n",
       " ' Алиса последовала за ним, даже не подумав о том, как она выберется оттуда.',\n",
       " ' Кроличья нора сначала была прямая, как тоннель, но потом обрывалась так внезапно, что Алиса не успела опомниться, как полетела куда-то вниз, точно в глубокий колодец.']"
      ]
     },
     "execution_count": 13,
     "metadata": {},
     "output_type": "execute_result"
    }
   ],
   "source": [
    "rusentences[:10]"
   ]
  },
  {
   "cell_type": "code",
   "execution_count": 14,
   "id": "actual-logging",
   "metadata": {},
   "outputs": [],
   "source": [
    "import pandas as pd\n",
    "import numpy as np\n",
    "import re\n",
    "import seaborn as sns\n",
    "import matplotlib.pyplot as plt\n",
    "import warnings\n",
    "warnings.simplefilter(\"ignore\")"
   ]
  },
  {
   "cell_type": "code",
   "execution_count": 15,
   "id": "asian-rental",
   "metadata": {},
   "outputs": [],
   "source": [
    "df_kz=pd.DataFrame(kzsentences)"
   ]
  },
  {
   "cell_type": "code",
   "execution_count": 16,
   "id": "sweet-press",
   "metadata": {},
   "outputs": [],
   "source": [
    "df_ru=pd.DataFrame(rusentences)"
   ]
  },
  {
   "cell_type": "code",
   "execution_count": 17,
   "id": "naked-robin",
   "metadata": {},
   "outputs": [],
   "source": [
    "df_kz['language']=0"
   ]
  },
  {
   "cell_type": "code",
   "execution_count": 18,
   "id": "nasty-elizabeth",
   "metadata": {},
   "outputs": [],
   "source": [
    "df_ru['language']=1"
   ]
  },
  {
   "cell_type": "code",
   "execution_count": 19,
   "id": "collect-philippines",
   "metadata": {},
   "outputs": [],
   "source": [
    "df=pd.concat([df_kz,df_ru])"
   ]
  },
  {
   "cell_type": "code",
   "execution_count": 20,
   "id": "cordless-hepatitis",
   "metadata": {},
   "outputs": [],
   "source": [
    "df.rename(columns = {0: 'Text'}, inplace = True)"
   ]
  },
  {
   "cell_type": "code",
   "execution_count": 21,
   "id": "acute-offer",
   "metadata": {},
   "outputs": [
    {
     "data": {
      "text/html": [
       "<div>\n",
       "<style scoped>\n",
       "    .dataframe tbody tr th:only-of-type {\n",
       "        vertical-align: middle;\n",
       "    }\n",
       "\n",
       "    .dataframe tbody tr th {\n",
       "        vertical-align: top;\n",
       "    }\n",
       "\n",
       "    .dataframe thead th {\n",
       "        text-align: right;\n",
       "    }\n",
       "</style>\n",
       "<table border=\"1\" class=\"dataframe\">\n",
       "  <thead>\n",
       "    <tr style=\"text-align: right;\">\n",
       "      <th></th>\n",
       "      <th>Text</th>\n",
       "      <th>language</th>\n",
       "    </tr>\n",
       "  </thead>\n",
       "  <tbody>\n",
       "    <tr>\n",
       "      <th>0</th>\n",
       "      <td>15 қазанда Алматы облысының Нарынқол ауылында ...</td>\n",
       "      <td>0</td>\n",
       "    </tr>\n",
       "    <tr>\n",
       "      <th>1</th>\n",
       "      <td>Абай атындағы Қазақ педагогикалық институтын, ...</td>\n",
       "      <td>0</td>\n",
       "    </tr>\n",
       "    <tr>\n",
       "      <th>2</th>\n",
       "      <td>Біраз жыл ауыл мектебінде бала оқытқан.</td>\n",
       "      <td>0</td>\n",
       "    </tr>\n",
       "    <tr>\n",
       "      <th>3</th>\n",
       "      <td>«Қазақ әдебиеті» газетінде, «Балдырған» журнал...</td>\n",
       "      <td>0</td>\n",
       "    </tr>\n",
       "    <tr>\n",
       "      <th>4</th>\n",
       "      <td>Қазақстан Жазушылар одағында балалар әдебиеті ...</td>\n",
       "      <td>0</td>\n",
       "    </tr>\n",
       "    <tr>\n",
       "      <th>...</th>\n",
       "      <td>...</td>\n",
       "      <td>...</td>\n",
       "    </tr>\n",
       "    <tr>\n",
       "      <th>95879</th>\n",
       "      <td>*1938* :::  [^1]: Ипсон -- местечко близ Лонд...</td>\n",
       "      <td>1</td>\n",
       "    </tr>\n",
       "    <tr>\n",
       "      <th>95880</th>\n",
       "      <td>[^2]: Минотавр -- мифическое чудовище, полубы...</td>\n",
       "      <td>1</td>\n",
       "    </tr>\n",
       "    <tr>\n",
       "      <th>95881</th>\n",
       "      <td>Минотавр     питался мясом преступников, а так...</td>\n",
       "      <td>1</td>\n",
       "    </tr>\n",
       "    <tr>\n",
       "      <th>95882</th>\n",
       "      <td>Убит был Минотавр Тезеем -- мифическим афински...</td>\n",
       "      <td>1</td>\n",
       "    </tr>\n",
       "    <tr>\n",
       "      <th>95883</th>\n",
       "      <td></td>\n",
       "      <td>1</td>\n",
       "    </tr>\n",
       "  </tbody>\n",
       "</table>\n",
       "<p>208608 rows × 2 columns</p>\n",
       "</div>"
      ],
      "text/plain": [
       "                                                    Text  language\n",
       "0      15 қазанда Алматы облысының Нарынқол ауылында ...         0\n",
       "1      Абай атындағы Қазақ педагогикалық институтын, ...         0\n",
       "2                Біраз жыл ауыл мектебінде бала оқытқан.         0\n",
       "3      «Қазақ әдебиеті» газетінде, «Балдырған» журнал...         0\n",
       "4      Қазақстан Жазушылар одағында балалар әдебиеті ...         0\n",
       "...                                                  ...       ...\n",
       "95879   *1938* :::  [^1]: Ипсон -- местечко близ Лонд...         1\n",
       "95880   [^2]: Минотавр -- мифическое чудовище, полубы...         1\n",
       "95881  Минотавр     питался мясом преступников, а так...         1\n",
       "95882  Убит был Минотавр Тезеем -- мифическим афински...         1\n",
       "95883                                                            1\n",
       "\n",
       "[208608 rows x 2 columns]"
      ]
     },
     "metadata": {},
     "output_type": "display_data"
    }
   ],
   "source": [
    "display(df)"
   ]
  },
  {
   "cell_type": "code",
   "execution_count": 22,
   "id": "extreme-blend",
   "metadata": {},
   "outputs": [],
   "source": [
    "df['clean_text'] = df['Text'].map(preprocess_text_tags)"
   ]
  },
  {
   "cell_type": "code",
   "execution_count": 23,
   "id": "ceramic-asset",
   "metadata": {},
   "outputs": [
    {
     "data": {
      "text/plain": [
       "0    112724\n",
       "1     95884\n",
       "Name: language, dtype: int64"
      ]
     },
     "execution_count": 23,
     "metadata": {},
     "output_type": "execute_result"
    }
   ],
   "source": [
    "df[\"language\"].value_counts()"
   ]
  },
  {
   "cell_type": "code",
   "execution_count": 24,
   "id": "tracked-still",
   "metadata": {},
   "outputs": [],
   "source": [
    "X = df[\"clean_text\"]\n",
    "y = df[\"language\"]"
   ]
  },
  {
   "cell_type": "code",
   "execution_count": 25,
   "id": "different-luther",
   "metadata": {},
   "outputs": [],
   "source": [
    "from sklearn.model_selection import train_test_split\n",
    "x_train, x_test, y_train, y_test = train_test_split(X, y, test_size = 0.20)"
   ]
  },
  {
   "cell_type": "code",
   "execution_count": 26,
   "id": "monthly-excerpt",
   "metadata": {},
   "outputs": [
    {
     "name": "stdout",
     "output_type": "stream",
     "text": [
      "              precision    recall  f1-score   support\n",
      "\n",
      "           0      0.978     0.994     0.986     22631\n",
      "           1      0.992     0.973     0.983     19091\n",
      "\n",
      "    accuracy                          0.984     41722\n",
      "   macro avg      0.985     0.983     0.984     41722\n",
      "weighted avg      0.984     0.984     0.984     41722\n",
      "\n"
     ]
    }
   ],
   "source": [
    "from sklearn.metrics import accuracy_score, roc_curve, auc\n",
    "from sklearn import metrics\n",
    "\n",
    "tfidf = TfidfVectorizer(\n",
    "       ngram_range=(1, 3),\n",
    "       analyzer='char_wb',\n",
    "       use_idf=1,\n",
    "       smooth_idf=1)\n",
    "\n",
    "data_train_count = tfidf.fit_transform(x_train)\n",
    "data_test_count  = tfidf.transform(x_test)\n",
    "clf = MultinomialNB()\n",
    "clf.fit(data_train_count, y_train)\n",
    "pred = clf.predict(data_test_count)\n",
    "print(metrics.classification_report(y_test, pred, digits=3)) "
   ]
  },
  {
   "cell_type": "code",
   "execution_count": 27,
   "id": "extended-egypt",
   "metadata": {},
   "outputs": [],
   "source": [
    "def label_lang(row):\n",
    "    mixed_text=row['clear_text']  \n",
    "    if not mixed_text or len(mixed_text)<2:\n",
    "        return 1\n",
    "    data_test_count  = tfidf.transform([mixed_text])\n",
    "    pred = clf.predict(data_test_count)\n",
    "    return pred[0]"
   ]
  },
  {
   "cell_type": "code",
   "execution_count": 32,
   "id": "norman-bench",
   "metadata": {},
   "outputs": [],
   "source": [
    "import pickle\n",
    "pickle.dump(tfidf, open('tfidf_model.sav', 'wb'))\n",
    "pickle.dump(clf, open('clf_model.sav', 'wb'))"
   ]
  },
  {
   "cell_type": "code",
   "execution_count": null,
   "id": "superior-flash",
   "metadata": {},
   "outputs": [],
   "source": []
  }
 ],
 "metadata": {
  "kernelspec": {
   "display_name": "Python 3",
   "language": "python",
   "name": "python3"
  },
  "language_info": {
   "codemirror_mode": {
    "name": "ipython",
    "version": 3
   },
   "file_extension": ".py",
   "mimetype": "text/x-python",
   "name": "python",
   "nbconvert_exporter": "python",
   "pygments_lexer": "ipython3",
   "version": "3.7.5"
  }
 },
 "nbformat": 4,
 "nbformat_minor": 5
}
